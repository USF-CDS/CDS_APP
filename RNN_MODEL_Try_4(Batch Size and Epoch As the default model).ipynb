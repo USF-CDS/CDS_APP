{
 "cells": [
  {
   "cell_type": "code",
   "execution_count": 17,
   "id": "039d1062",
   "metadata": {},
   "outputs": [],
   "source": [
    "import string\n",
    "import re\n",
    "from os import listdir\n",
    "from collections import Counter\n",
    "from nltk.corpus import stopwords"
   ]
  },
  {
   "cell_type": "code",
   "execution_count": 18,
   "id": "6cdb1ea8",
   "metadata": {},
   "outputs": [
    {
     "name": "stderr",
     "output_type": "stream",
     "text": [
      "[nltk_data] Downloading package stopwords to\n",
      "[nltk_data]     C:\\Users\\vthammuneni\\AppData\\Roaming\\nltk_data...\n",
      "[nltk_data]   Package stopwords is already up-to-date!\n"
     ]
    },
    {
     "data": {
      "text/plain": [
       "True"
      ]
     },
     "execution_count": 18,
     "metadata": {},
     "output_type": "execute_result"
    }
   ],
   "source": [
    "import nltk\n",
    "nltk.download('stopwords')"
   ]
  },
  {
   "cell_type": "code",
   "execution_count": 19,
   "id": "3c338b73",
   "metadata": {},
   "outputs": [],
   "source": [
    "import pandas as pd\n",
    "df = pd.read_csv('Final_Data.csv')"
   ]
  },
  {
   "cell_type": "code",
   "execution_count": 38,
   "id": "25879360",
   "metadata": {},
   "outputs": [
    {
     "data": {
      "text/html": [
       "<div>\n",
       "<style scoped>\n",
       "    .dataframe tbody tr th:only-of-type {\n",
       "        vertical-align: middle;\n",
       "    }\n",
       "\n",
       "    .dataframe tbody tr th {\n",
       "        vertical-align: top;\n",
       "    }\n",
       "\n",
       "    .dataframe thead th {\n",
       "        text-align: right;\n",
       "    }\n",
       "</style>\n",
       "<table border=\"1\" class=\"dataframe\">\n",
       "  <thead>\n",
       "    <tr style=\"text-align: right;\">\n",
       "      <th></th>\n",
       "      <th>transcripts</th>\n",
       "      <th>valid</th>\n",
       "    </tr>\n",
       "  </thead>\n",
       "  <tbody>\n",
       "    <tr>\n",
       "      <th>0</th>\n",
       "      <td>along with my partner new for the past  couple...</td>\n",
       "      <td>1</td>\n",
       "    </tr>\n",
       "    <tr>\n",
       "      <th>1</th>\n",
       "      <td>hello my name is helen zarling and i am  curre...</td>\n",
       "      <td>1</td>\n",
       "    </tr>\n",
       "    <tr>\n",
       "      <th>2</th>\n",
       "      <td>hi my name is philip bustamante and  today i w...</td>\n",
       "      <td>1</td>\n",
       "    </tr>\n",
       "    <tr>\n",
       "      <th>3</th>\n",
       "      <td>went and uh this is my tableau project  for  b...</td>\n",
       "      <td>1</td>\n",
       "    </tr>\n",
       "    <tr>\n",
       "      <th>4</th>\n",
       "      <td>hello everyone my name is shin leo today  i wi...</td>\n",
       "      <td>0</td>\n",
       "    </tr>\n",
       "    <tr>\n",
       "      <th>5</th>\n",
       "      <td>okay hello everybody uh  my name is devon mont...</td>\n",
       "      <td>0</td>\n",
       "    </tr>\n",
       "    <tr>\n",
       "      <th>6</th>\n",
       "      <td>Nosubtitles</td>\n",
       "      <td>0</td>\n",
       "    </tr>\n",
       "    <tr>\n",
       "      <th>7</th>\n",
       "      <td>the darker the color of the area  on the map i...</td>\n",
       "      <td>0</td>\n",
       "    </tr>\n",
       "    <tr>\n",
       "      <th>8</th>\n",
       "      <td>hello this is  pai um from management 4737  cl...</td>\n",
       "      <td>0</td>\n",
       "    </tr>\n",
       "    <tr>\n",
       "      <th>9</th>\n",
       "      <td>[Music]  hello my name is garrett thurlow and ...</td>\n",
       "      <td>1</td>\n",
       "    </tr>\n",
       "    <tr>\n",
       "      <th>10</th>\n",
       "      <td>hello this is my  tableau project for integrat...</td>\n",
       "      <td>1</td>\n",
       "    </tr>\n",
       "    <tr>\n",
       "      <th>11</th>\n",
       "      <td>hello my name is madeline moore  my u number i...</td>\n",
       "      <td>1</td>\n",
       "    </tr>\n",
       "    <tr>\n",
       "      <th>12</th>\n",
       "      <td>hello my name is riley johnson and i am  recor...</td>\n",
       "      <td>1</td>\n",
       "    </tr>\n",
       "    <tr>\n",
       "      <th>13</th>\n",
       "      <td>hello my name is zachariah khalid  and today i...</td>\n",
       "      <td>1</td>\n",
       "    </tr>\n",
       "    <tr>\n",
       "      <th>14</th>\n",
       "      <td>[Music]  hi my name is jordan moore and i'm  c...</td>\n",
       "      <td>1</td>\n",
       "    </tr>\n",
       "    <tr>\n",
       "      <th>15</th>\n",
       "      <td>Nosubtitles</td>\n",
       "      <td>1</td>\n",
       "    </tr>\n",
       "    <tr>\n",
       "      <th>16</th>\n",
       "      <td>good afternoon everyone thanks for  tuning in ...</td>\n",
       "      <td>1</td>\n",
       "    </tr>\n",
       "    <tr>\n",
       "      <th>17</th>\n",
       "      <td>hello my name is jada radecki i am a  student ...</td>\n",
       "      <td>1</td>\n",
       "    </tr>\n",
       "    <tr>\n",
       "      <th>18</th>\n",
       "      <td>hello my name is reagan fouts and i'm a  stude...</td>\n",
       "      <td>1</td>\n",
       "    </tr>\n",
       "    <tr>\n",
       "      <th>19</th>\n",
       "      <td>hi my name is stephanie estrada and um  uh thi...</td>\n",
       "      <td>0</td>\n",
       "    </tr>\n",
       "  </tbody>\n",
       "</table>\n",
       "</div>"
      ],
      "text/plain": [
       "                                          transcripts  valid\n",
       "0   along with my partner new for the past  couple...      1\n",
       "1   hello my name is helen zarling and i am  curre...      1\n",
       "2   hi my name is philip bustamante and  today i w...      1\n",
       "3   went and uh this is my tableau project  for  b...      1\n",
       "4   hello everyone my name is shin leo today  i wi...      0\n",
       "5   okay hello everybody uh  my name is devon mont...      0\n",
       "6                                         Nosubtitles      0\n",
       "7   the darker the color of the area  on the map i...      0\n",
       "8   hello this is  pai um from management 4737  cl...      0\n",
       "9   [Music]  hello my name is garrett thurlow and ...      1\n",
       "10  hello this is my  tableau project for integrat...      1\n",
       "11  hello my name is madeline moore  my u number i...      1\n",
       "12  hello my name is riley johnson and i am  recor...      1\n",
       "13  hello my name is zachariah khalid  and today i...      1\n",
       "14  [Music]  hi my name is jordan moore and i'm  c...      1\n",
       "15                                        Nosubtitles      1\n",
       "16  good afternoon everyone thanks for  tuning in ...      1\n",
       "17  hello my name is jada radecki i am a  student ...      1\n",
       "18  hello my name is reagan fouts and i'm a  stude...      1\n",
       "19  hi my name is stephanie estrada and um  uh thi...      0"
      ]
     },
     "execution_count": 38,
     "metadata": {},
     "output_type": "execute_result"
    }
   ],
   "source": [
    "df.head(20)"
   ]
  },
  {
   "cell_type": "code",
   "execution_count": 39,
   "id": "94a2410d",
   "metadata": {},
   "outputs": [],
   "source": [
    "df = df[df['transcripts']!='Nosubtitles']"
   ]
  },
  {
   "cell_type": "code",
   "execution_count": 40,
   "id": "4d09c184",
   "metadata": {},
   "outputs": [
    {
     "data": {
      "text/plain": [
       "(8786, 2)"
      ]
     },
     "execution_count": 40,
     "metadata": {},
     "output_type": "execute_result"
    }
   ],
   "source": [
    "df.shape"
   ]
  },
  {
   "cell_type": "code",
   "execution_count": 41,
   "id": "50c443f2",
   "metadata": {},
   "outputs": [],
   "source": [
    "import numpy as np\n",
    "from keras.models import Sequential\n",
    "from keras.layers import Embedding, LSTM, Dense\n",
    "from keras.preprocessing.text import Tokenizer\n",
    "from keras_preprocessing.sequence import pad_sequences\n",
    "from sklearn.model_selection import train_test_split"
   ]
  },
  {
   "cell_type": "code",
   "execution_count": 42,
   "id": "5f066c3e",
   "metadata": {},
   "outputs": [],
   "source": [
    "## Prepare data"
   ]
  },
  {
   "cell_type": "code",
   "execution_count": 43,
   "id": "4e3410de",
   "metadata": {},
   "outputs": [],
   "source": [
    "transcripts = df['transcripts'] # List of YouTube transcripts\n",
    "labels = df['valid']  # List of corresponding labels"
   ]
  },
  {
   "cell_type": "code",
   "execution_count": 44,
   "id": "e479a03c",
   "metadata": {},
   "outputs": [],
   "source": [
    "# Tokenize the text data"
   ]
  },
  {
   "cell_type": "code",
   "execution_count": 45,
   "id": "6b0b8c9c",
   "metadata": {},
   "outputs": [],
   "source": [
    "tokenizer = Tokenizer()\n",
    "tokenizer.fit_on_texts(transcripts)\n",
    "vocab_size = len(tokenizer.word_index) + 1\n",
    "sequences = tokenizer.texts_to_sequences(transcripts)"
   ]
  },
  {
   "cell_type": "code",
   "execution_count": 46,
   "id": "f5bac877",
   "metadata": {},
   "outputs": [],
   "source": [
    "# Pad sequences to ensure equal length"
   ]
  },
  {
   "cell_type": "code",
   "execution_count": 47,
   "id": "49de5de7",
   "metadata": {},
   "outputs": [],
   "source": [
    "max_length = max(len(seq) for seq in sequences)\n",
    "padded_sequences = pad_sequences(sequences, maxlen=max_length)"
   ]
  },
  {
   "cell_type": "code",
   "execution_count": 48,
   "id": "0dc54de9",
   "metadata": {},
   "outputs": [],
   "source": [
    "# Split data into training and testing sets"
   ]
  },
  {
   "cell_type": "code",
   "execution_count": 49,
   "id": "4378b6ae",
   "metadata": {},
   "outputs": [],
   "source": [
    "X_train, X_test, y_train, y_test = train_test_split(padded_sequences, labels, test_size=0.2, random_state=42)"
   ]
  },
  {
   "cell_type": "code",
   "execution_count": 50,
   "id": "325591a2",
   "metadata": {},
   "outputs": [],
   "source": [
    "# Build the deep learning model"
   ]
  },
  {
   "cell_type": "code",
   "execution_count": 51,
   "id": "f0a24f9b",
   "metadata": {},
   "outputs": [],
   "source": [
    "model = Sequential()\n",
    "model.add(Embedding(vocab_size, 150, input_length=max_length))\n",
    "model.add(LSTM(150, return_sequences=True))  # Additional LSTM layer\n",
    "model.add(LSTM(100))\n",
    "model.add(Dense(1, activation='sigmoid'))\n",
    "\n",
    "#Compile the model\n",
    "model.compile(optimizer='adam', loss='binary_crossentropy', metrics=['accuracy'])"
   ]
  },
  {
   "cell_type": "code",
   "execution_count": 52,
   "id": "9ce4e322",
   "metadata": {},
   "outputs": [],
   "source": [
    "# model fitting"
   ]
  },
  {
   "cell_type": "code",
   "execution_count": 53,
   "id": "a182e85c",
   "metadata": {},
   "outputs": [
    {
     "name": "stdout",
     "output_type": "stream",
     "text": [
      "Epoch 1/20\n",
      "36/36 [==============================] - 1089s 30s/step - loss: 0.6035 - accuracy: 0.7106 - val_loss: 0.5748 - val_accuracy: 0.7275\n",
      "Epoch 2/20\n",
      "36/36 [==============================] - 1022s 28s/step - loss: 0.5446 - accuracy: 0.7417 - val_loss: 0.5642 - val_accuracy: 0.7315\n",
      "Epoch 3/20\n",
      "36/36 [==============================] - 1028s 29s/step - loss: 0.4945 - accuracy: 0.7450 - val_loss: 0.5874 - val_accuracy: 0.6866\n",
      "Epoch 4/20\n",
      "36/36 [==============================] - 1207s 34s/step - loss: 0.4220 - accuracy: 0.8173 - val_loss: 0.6364 - val_accuracy: 0.6689\n",
      "Epoch 5/20\n",
      "36/36 [==============================] - 1139s 32s/step - loss: 0.3355 - accuracy: 0.8594 - val_loss: 0.6629 - val_accuracy: 0.7053\n",
      "Epoch 6/20\n",
      "36/36 [==============================] - 1033s 29s/step - loss: 0.2727 - accuracy: 0.8931 - val_loss: 0.7633 - val_accuracy: 0.6428\n",
      "Epoch 7/20\n",
      "36/36 [==============================] - 964s 27s/step - loss: 0.2291 - accuracy: 0.9166 - val_loss: 0.8478 - val_accuracy: 0.7184\n",
      "Epoch 8/20\n",
      "36/36 [==============================] - 957s 27s/step - loss: 0.1801 - accuracy: 0.9391 - val_loss: 0.8363 - val_accuracy: 0.6792\n",
      "Epoch 9/20\n",
      "36/36 [==============================] - 942s 26s/step - loss: 0.1582 - accuracy: 0.9479 - val_loss: 0.9441 - val_accuracy: 0.6507\n",
      "Epoch 10/20\n",
      "36/36 [==============================] - 983s 27s/step - loss: 0.1325 - accuracy: 0.9590 - val_loss: 0.9383 - val_accuracy: 0.6854\n",
      "Epoch 11/20\n",
      "36/36 [==============================] - 2837s 80s/step - loss: 0.1413 - accuracy: 0.9519 - val_loss: 0.9787 - val_accuracy: 0.6769\n",
      "Epoch 12/20\n",
      "36/36 [==============================] - 1089s 30s/step - loss: 0.1080 - accuracy: 0.9641 - val_loss: 1.0186 - val_accuracy: 0.6854\n",
      "Epoch 13/20\n",
      "36/36 [==============================] - 1059s 29s/step - loss: 0.0890 - accuracy: 0.9740 - val_loss: 1.0015 - val_accuracy: 0.6906\n",
      "Epoch 14/20\n",
      "36/36 [==============================] - 1171s 33s/step - loss: 0.0800 - accuracy: 0.9752 - val_loss: 1.0699 - val_accuracy: 0.7150\n",
      "Epoch 15/20\n",
      "36/36 [==============================] - 1234s 34s/step - loss: 0.0735 - accuracy: 0.9755 - val_loss: 1.1813 - val_accuracy: 0.6968\n",
      "Epoch 16/20\n",
      "36/36 [==============================] - 1166s 32s/step - loss: 0.0687 - accuracy: 0.9762 - val_loss: 1.0806 - val_accuracy: 0.7025\n",
      "Epoch 17/20\n",
      "36/36 [==============================] - 1022s 28s/step - loss: 0.0626 - accuracy: 0.9777 - val_loss: 1.4297 - val_accuracy: 0.6860\n",
      "Epoch 18/20\n",
      "36/36 [==============================] - 1035s 29s/step - loss: 0.0609 - accuracy: 0.9775 - val_loss: 1.4113 - val_accuracy: 0.6877\n",
      "Epoch 19/20\n",
      "36/36 [==============================] - 1052s 29s/step - loss: 0.0532 - accuracy: 0.9795 - val_loss: 1.3138 - val_accuracy: 0.6894\n",
      "Epoch 20/20\n",
      "36/36 [==============================] - 1022s 28s/step - loss: 0.0479 - accuracy: 0.9802 - val_loss: 1.2886 - val_accuracy: 0.6837\n"
     ]
    },
    {
     "data": {
      "text/plain": [
       "<keras.callbacks.History at 0x2b7395b8f70>"
      ]
     },
     "execution_count": 53,
     "metadata": {},
     "output_type": "execute_result"
    }
   ],
   "source": [
    "model.fit(X_train, y_train, validation_data=(X_test, y_test), epochs=20, batch_size=200)"
   ]
  },
  {
   "cell_type": "code",
   "execution_count": 55,
   "id": "c2d35442",
   "metadata": {},
   "outputs": [
    {
     "name": "stdout",
     "output_type": "stream",
     "text": [
      "55/55 [==============================] - 96s 2s/step - loss: 1.2886 - accuracy: 0.6837\n",
      "Test Loss: 1.2885574102401733\n",
      "Test Accuracy: 0.6837314963340759\n"
     ]
    }
   ],
   "source": [
    "# Step 8: Evaluate the model\n",
    "loss, accuracy = model.evaluate(X_test, y_test)\n",
    "print('Test Loss:', loss)\n",
    "print('Test Accuracy:', accuracy)"
   ]
  },
  {
   "cell_type": "code",
   "execution_count": null,
   "id": "25af706a",
   "metadata": {},
   "outputs": [],
   "source": []
  }
 ],
 "metadata": {
  "kernelspec": {
   "display_name": "Python 3 (ipykernel)",
   "language": "python",
   "name": "python3"
  },
  "language_info": {
   "codemirror_mode": {
    "name": "ipython",
    "version": 3
   },
   "file_extension": ".py",
   "mimetype": "text/x-python",
   "name": "python",
   "nbconvert_exporter": "python",
   "pygments_lexer": "ipython3",
   "version": "3.7.0"
  }
 },
 "nbformat": 4,
 "nbformat_minor": 5
}
